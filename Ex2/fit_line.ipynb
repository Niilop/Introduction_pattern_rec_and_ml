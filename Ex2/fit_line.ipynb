{
 "cells": [
  {
   "cell_type": "code",
   "execution_count": 56,
   "metadata": {},
   "outputs": [
    {
     "name": "stdout",
     "output_type": "stream",
     "text": [
      "My fit: a=1.0737737427630059 and b=1.0737737427630059\n"
     ]
    },
    {
     "data": {
      "image/png": "[encoded data removed]",
      "text/plain": [
       "<Figure size 432x288 with 1 Axes>"
      ]
     },
     "metadata": {
      "needs_background": "light"
     },
     "output_type": "display_data"
    }
   ],
   "source": [
    "#Linear solver\n",
    "def my_linfit(x,y):\n",
    "  \n",
    "    N=len(x)\n",
    "\n",
    "    a1 = N*sum(y*x)\n",
    "    a2 = (sum(y))*(sum(x))\n",
    "    a3 = N*sum(x**2)-sum(x)**2\n",
    "\n",
    "    a = (a1-a2)/a3\n",
    "    b = (sum(y)-a*sum(x))/N\n",
    "    return a,b\n",
    "\n",
    "# Main\n",
    "import matplotlib.pyplot as plt\n",
    "import numpy as np\n",
    "x = np.random.uniform(-2,5,10)\n",
    "y = np.random.uniform (0,3,10)\n",
    "\n",
    "a,b = my_linfit(x,y)\n",
    "plt.plot(x,y,'kx')\n",
    "xp = np.arange(-2,5,0.1)\n",
    "plt.plot(xp,a*xp+b,'r-')\n",
    "print(f\"My fit: a={b} and b={b}\")\n",
    "plt.show()"
   ]
  },
  {
   "cell_type": "code",
   "execution_count": 55,
   "metadata": {},
   "outputs": [],
   "source": []
  }
 ],
 "metadata": {
  "kernelspec": {
   "display_name": "Python 3",
   "language": "python",
   "name": "python3"
  },
  "language_info": {
   "codemirror_mode": {
    "name": "ipython",
    "version": 3
   },
   "file_extension": ".py",
   "mimetype": "text/x-python",
   "name": "python",
   "nbconvert_exporter": "python",
   "pygments_lexer": "ipython3",
   "version": "3.7.4"
  }
 },
 "nbformat": 4,
 "nbformat_minor": 2
}
